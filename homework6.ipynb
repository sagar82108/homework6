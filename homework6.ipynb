{
 "cells": [
  {
   "cell_type": "code",
   "execution_count": null,
   "id": "3191b512-8500-4270-bb54-9cff18d0b104",
   "metadata": {},
   "outputs": [],
   "source": [
    "password=input(\"set your password:\")\n",
    "j=0\n",
    "k=0\n",
    "l=0\n",
    "m=0\n",
    "for i in password:\n",
    "    if i.isupper():\n",
    "        j=j+1\n",
    "    elif i.islower():\n",
    "        k=k+1\n",
    "    elif i.isnumeric():\n",
    "        l=l+1\n",
    "allowed_special_chars = ['!', '@', '#', '$', '%', '^', '&', '*', '(', ')', '-', '+', '=', '_', '{', '}', '[', ']', '|', ';', ':', ',', '.', '<', '>', '/', '?']\n",
    "for char in password:\n",
    "    if char in allowed_special_chars:\n",
    "        m += 1\n",
    "\n",
    "\n",
    "if (j>=2 and k>=2 and l>=1 and m>=3 and len(password)==10):\n",
    "    print(\"password is valid\")\n",
    "else:\n",
    "    print(\"invalid password\")\n",
    "    \n",
    "        \n",
    "    "
   ]
  },
  {
   "cell_type": "code",
   "execution_count": null,
   "id": "cf07bf3d-ae15-4ebd-aac3-82eb9d193d37",
   "metadata": {},
   "outputs": [],
   "source": [
    "#a) We can use a lambda function and the string method startswith() to check if a given string starts with a particular letter.\n",
    "#Here's an example:\n",
    "my_string = \"hello world\"\n",
    "my_letter = \"h\"\n",
    "\n",
    "check_starts_with_letter = lambda string, letter: string.startswith(letter)\n",
    "\n",
    "print(check_starts_with_letter(my_string, my_letter))\n",
    "#b) Check if the string is numeric\n",
    "num_string = \"12345\"\n",
    "check_numeric_string = lambda s: s.isnumeric()\n",
    "\n",
    "print(check_numeric_string(num_string))\n",
    "\n",
    "#c) Sort a list of tuples having fruit names and their quantity:\n",
    "fruit_list = [(\"mango\", 99), (\"orange\", 80), (\"grapes\", 1000)]\n",
    "\n",
    "sorted_fruit_list = sorted(fruit_list, key=lambda x: x[1])\n",
    "print(sorted_fruit_list)\n",
    "#d) Find the squares of numbers from 1 to 10:\n",
    "squares = [x**2 for x in range(1, 11)]\n",
    "print(squares)\n",
    "#e) Find the cube root of numbers from 1 to 10:\n",
    "cube_roots = [x**(1/3) for x in range(1, 11)]\n",
    "print(cube_roots)\n",
    "#f) Check if a given number is even:\n",
    "num = 6\n",
    "is_even = lambda x: x % 2 == 0\n",
    "print(is_even(num))\n",
    "#g) Filter odd numbers from the given list:\n",
    "num_list = [1, 2, 3, 4, 5, 6, 7, 8, 9, 10]\n",
    "odd_nums = list(filter(lambda x: x % 2 != 0, num_list))\n",
    "print(odd_nums)\n",
    "\n",
    "\n",
    "\n"
   ]
  },
  {
   "cell_type": "code",
   "execution_count": null,
   "id": "d190de5e-20a2-4cf9-b422-30db959d18e5",
   "metadata": {},
   "outputs": [],
   "source": []
  }
 ],
 "metadata": {
  "kernelspec": {
   "display_name": "Python 3 (ipykernel)",
   "language": "python",
   "name": "python3"
  },
  "language_info": {
   "codemirror_mode": {
    "name": "ipython",
    "version": 3
   },
   "file_extension": ".py",
   "mimetype": "text/x-python",
   "name": "python",
   "nbconvert_exporter": "python",
   "pygments_lexer": "ipython3",
   "version": "3.10.8"
  }
 },
 "nbformat": 4,
 "nbformat_minor": 5
}
